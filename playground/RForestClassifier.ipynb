{
 "cells": [
  {
   "cell_type": "code",
   "execution_count": 1,
   "metadata": {},
   "outputs": [],
   "source": [
    "import pandas as pd\n",
    "import glob\n",
    "import numpy as np\n",
    "import cv2 as cv\n",
    "from sklearn.ensemble import RandomForestClassifier\n",
    "from sklearn.model_selection import train_test_split, cross_val_score"
   ]
  },
  {
   "cell_type": "code",
   "execution_count": 10,
   "metadata": {},
   "outputs": [
    {
     "data": {
      "text/plain": [
       "array([ 0.5       ,  0.4       ,  0.5       ,  0.6       ,  0.55      ,\n",
       "        0.47368421,  0.68421053,  0.78947368,  0.78947368,  0.57894737])"
      ]
     },
     "execution_count": 10,
     "metadata": {},
     "output_type": "execute_result"
    }
   ],
   "source": [
    "seed = 23\n",
    "\n",
    "name = pd.read_csv(\"../reflex.csv\").iloc[:, 0]\n",
    "file_names = [fn for fn in glob.glob(\"../1d_data/\" + \"*100x100var.png\")]\n",
    "join_attr = [fn[11:-15] for fn in file_names]\n",
    "X = [cv.imread(name, 0)[0][:45] for name in file_names]\n",
    "X = pd.DataFrame(X, index=join_attr)\n",
    "\n",
    "y_names = pd.read_csv(\"../reflex.csv\").iloc[:, 0].str.slice(7, -4).values\n",
    "y = pd.read_csv(\"../reflex.csv\").iloc[:, 1].values\n",
    "y = pd.DataFrame(y, index=y_names)\n",
    "X_joined = X.join(y, how=\"inner\", rsuffix = \"_labels\")\n",
    "\n",
    "y = X_joined.loc[:, \"0_labels\"]\n",
    "X = X_joined.drop(\"0_labels\", axis=1)\n",
    "\n",
    "clf = RandomForestClassifier(random_state=seed, n_estimators=100, n_jobs=-1)\n",
    "cross_val_score(clf, X, y, cv=10)"
   ]
  }
 ],
 "metadata": {
  "kernelspec": {
   "display_name": "Python (conda: python3)",
   "language": "python",
   "name": "myenv"
  },
  "language_info": {
   "codemirror_mode": {
    "name": "ipython",
    "version": 3
   },
   "file_extension": ".py",
   "mimetype": "text/x-python",
   "name": "python",
   "nbconvert_exporter": "python",
   "pygments_lexer": "ipython3",
   "version": "3.6.4"
  }
 },
 "nbformat": 4,
 "nbformat_minor": 2
}
