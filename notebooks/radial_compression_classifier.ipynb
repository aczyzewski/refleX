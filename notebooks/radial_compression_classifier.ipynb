{
 "cells": [
  {
   "cell_type": "code",
   "execution_count": 0,
   "metadata": {
    "colab": {
     "autoexec": {
      "startup": false,
      "wait_interval": 0
     }
    },
    "colab_type": "code",
    "id": "bfhWacgGx7Rq"
   },
   "outputs": [],
   "source": [
    "import pandas as pd\n",
    "import glob\n",
    "import numpy as np\n",
    "import cv2 as cv\n",
    "from sklearn.ensemble import RandomForestClassifier\n",
    "from sklearn.model_selection import train_test_split, cross_val_score"
   ]
  },
  {
   "cell_type": "code",
   "execution_count": 0,
   "metadata": {
    "colab": {
     "autoexec": {
      "startup": false,
      "wait_interval": 0
     }
    },
    "colab_type": "code",
    "id": "cY7mmz4nx7Rv"
   },
   "outputs": [],
   "source": [
    "class RadialCompressorClassifier:\n",
    "\n",
    "    def __init__(self,\n",
    "                 clf=RandomForestClassifier(random_state=23, \n",
    "                                            n_estimators=100, \n",
    "                                            n_jobs=-1)):\n",
    "        \n",
    "        self.clf=RandomForestClassifier(random_state=23, \n",
    "                                        n_estimators=100, \n",
    "                                        n_jobs=-1)\n",
    "        \n",
    "        self.anomaly_csv_columns = {\"LS\": 1, \n",
    "                                    \"BR\": 2, \n",
    "                                    \"SB\": 3, \n",
    "                                    \"DS\": 4, \n",
    "                                    \"A\": 5, \n",
    "                                    \"IR\": 6, \n",
    "                                    \"NUD\":7}\n",
    "        \n",
    "        self.statistics = [\"min\", \"max\", \"var\", \"median\", \"mean\"]\n",
    "        \n",
    "        self.X = None\n",
    "        self.y = None\n",
    "    \n",
    "    def load_training_data(self, \n",
    "                           anomaly, \n",
    "                           statistic, \n",
    "                           dirname=\"1d_data/\", \n",
    "                           im_size=100, \n",
    "                           csv_filename=\"reflex.csv\"):\n",
    "        \n",
    "        if statistic not in self.statistics:\n",
    "            print(\"The chosen statistic: '\" + statistic + \"' is not supported.\")\n",
    "            print(\"Available compression statistics: \" \n",
    "                  + \", \".join(self.statistics))\n",
    "            return\n",
    "        if anomaly not in self.anomaly_csv_columns.keys():\n",
    "            print(\"Unrecognized anomaly: '\" + anomaly + \"'.\")\n",
    "            print(\"Avialable anomalies: \" + self.anomalies.keys())\n",
    "            return\n",
    "\n",
    "        name = pd.read_csv(csv_filename).iloc[:, 0]\n",
    "        file_names = [fn for fn in glob.glob(dirname \n",
    "                                             + \"*\" + str(im_size) \n",
    "                                             + \"x\" + str(im_size) \n",
    "                                             + statistic \n",
    "                                             + \".png\")]\n",
    "        print(\"Training on \" + str(len(file_names)) + \" images\")\n",
    "        join_attr = [fn[8:-15] for fn in file_names]\n",
    "        X = [cv.imread(name, 0)[0][:45] for name in file_names]\n",
    "        X = pd.DataFrame(X, index=join_attr)\n",
    "\n",
    "        y_names = pd.read_csv(csv_filename).iloc[:, 0].str.slice(7, -4).values\n",
    "        y = pd.read_csv(csv_filename).iloc[:, self.anomaly_csv_columns[anomaly]].values\n",
    "        y = pd.DataFrame(y, index=y_names)\n",
    "        X_joined = X.join(y, how=\"inner\", rsuffix = \"_labels\")\n",
    "\n",
    "        self.y = X_joined.loc[:, \"0_labels\"]\n",
    "        self.X = X_joined.drop(\"0_labels\", axis=1)\n",
    "    \n",
    "    def cross_val_score(self, \n",
    "                        cross_val_score_scoring=\"accuracy\",\n",
    "                        cross_val_score_cv=10):\n",
    "\n",
    "        if self.X is None or self.y is None:\n",
    "            print(\"Training data not loaded!\")\n",
    "            return\n",
    "        \n",
    "        return np.mean(cross_val_score(self.clf, \n",
    "                                       self.X, \n",
    "                                       self.y, \n",
    "                                       cv=cross_val_score_cv, \n",
    "                                       scoring=cross_val_score_scoring))"
   ]
  },
  {
   "cell_type": "code",
   "execution_count": 0,
   "metadata": {
    "colab": {
     "autoexec": {
      "startup": false,
      "wait_interval": 0
     }
    },
    "colab_type": "code",
    "id": "Fp076Jeqx7R2"
   },
   "outputs": [],
   "source": [
    "from sklearn.neural_network import MLPClassifier\n",
    "from sklearn.neighbors import KNeighborsClassifier\n",
    "from sklearn.svm import SVC\n",
    "from sklearn.gaussian_process import GaussianProcessClassifier\n",
    "from sklearn.gaussian_process.kernels import RBF\n",
    "from sklearn.tree import DecisionTreeClassifier\n",
    "from sklearn.ensemble import RandomForestClassifier, AdaBoostClassifier\n",
    "from sklearn.naive_bayes import GaussianNB\n",
    "from sklearn.discriminant_analysis import QuadraticDiscriminantAnalysis\n",
    "\n",
    "classifier_names = [\"Nearest Neighbors\", \"Linear SVM\", \"RBF SVM\", \n",
    "                    \"Gaussian Process\", \"Decision Tree\", \"Random Forest\", \n",
    "                    \"Neural Net\", \"AdaBoost\", \"Naive Bayes\", \"QDA\"]\n",
    "\n",
    "classifiers = [\n",
    "    KNeighborsClassifier(3),\n",
    "    SVC(kernel=\"linear\", C=0.025),\n",
    "    SVC(gamma=2, C=1),\n",
    "    GaussianProcessClassifier(1.0 * RBF(1.0)),\n",
    "    DecisionTreeClassifier(max_depth=5),\n",
    "    RandomForestClassifier(max_depth=5, n_estimators=10, max_features=1),\n",
    "    MLPClassifier(alpha=1),\n",
    "    AdaBoostClassifier(),\n",
    "    GaussianNB(),\n",
    "    QuadraticDiscriminantAnalysis()]"
   ]
  },
  {
   "cell_type": "code",
   "execution_count": 4,
   "metadata": {
    "colab": {
     "autoexec": {
      "startup": false,
      "wait_interval": 0
     },
     "base_uri": "https://localhost:8080/",
     "height": 266
    },
    "colab_type": "code",
    "executionInfo": {
     "elapsed": 560,
     "status": "error",
     "timestamp": 1525934939474,
     "user": {
      "displayName": "Ice Ring",
      "photoUrl": "https://lh3.googleusercontent.com/a/default-user=s128",
      "userId": "103968338750374102762"
     },
     "user_tz": -120
    },
    "id": "Fms4XOptx7R6",
    "outputId": "69c6db06-0213-4487-ddc1-223ce7a29716"
   },
   "outputs": [
    {
     "name": "stdout",
     "output_type": "stream",
     "text": [
      "Chosen statistics: min, max, var, mean, median\n",
      "\n"
     ]
    },
    {
     "ename": "NameError",
     "evalue": "ignored",
     "output_type": "error",
     "traceback": [
      "\u001b[0;31m---------------------------------------------------------------------------\u001b[0m",
      "\u001b[0;31mNameError\u001b[0m                                 Traceback (most recent call last)",
      "\u001b[0;32m<ipython-input-4-f642e0a7cddb>\u001b[0m in \u001b[0;36m<module>\u001b[0;34m()\u001b[0m\n\u001b[1;32m      5\u001b[0m \u001b[0;34m\u001b[0m\u001b[0m\n\u001b[1;32m      6\u001b[0m df = pd.DataFrame(np.nan, \n\u001b[0;32m----> 7\u001b[0;31m                   \u001b[0mindex\u001b[0m\u001b[0;34m=\u001b[0m\u001b[0mrcc\u001b[0m\u001b[0;34m.\u001b[0m\u001b[0manomaly_csv_columns\u001b[0m\u001b[0;34m.\u001b[0m\u001b[0mkeys\u001b[0m\u001b[0;34m(\u001b[0m\u001b[0;34m)\u001b[0m\u001b[0;34m,\u001b[0m\u001b[0;34m\u001b[0m\u001b[0m\n\u001b[0m\u001b[1;32m      8\u001b[0m                   columns=chosen_statistics)\n\u001b[1;32m      9\u001b[0m \u001b[0;34m\u001b[0m\u001b[0m\n",
      "\u001b[0;31mNameError\u001b[0m: name 'rcc' is not defined"
     ]
    }
   ],
   "source": [
    "#print(\"Available anomalies: \" + \", \".join(rcc.anomaly_csv_columns.keys()))\n",
    "#print(\"Available statistics: \" + \", \".join(rcc.statistics))\n",
    "#print(\"Available classifiers: \" + \", \".join(classifier_names))\n",
    "\n",
    "chosen_statistics = [\"min\", \"max\", \"var\", \"mean\", \"median\"]\n",
    "print(\"Chosen statistics: \" + \", \".join(chosen_statistics))\n",
    "print()\n",
    "\n",
    "df = pd.DataFrame(np.nan, \n",
    "                  index=rcc.anomaly_csv_columns.keys(), \n",
    "                  columns=chosen_statistics)\n",
    "\n",
    "\n",
    "for i in range(len(classifiers)):\n",
    "    print()\n",
    "    print(classifier_names[i])\n",
    "    rcc = RadialCompressorClassifier(classifiers[i])\n",
    "    for anomaly in rcc.anomaly_csv_columns.keys():\n",
    "        row = []\n",
    "        for stat in chosen_statistics:\n",
    "            rcc.load_training_data(anomaly, stat)\n",
    "            data = [rcc.cross_val_score(),\n",
    "                    rcc.cross_val_score(cross_val_score_scoring=\"recall\")]\n",
    "            row.append(\"/\".join([str(i) for i in data]))\n",
    "        df.loc[anomaly] = row\n",
    "\n",
    "    print(df)"
   ]
  },
  {
   "cell_type": "code",
   "execution_count": 0,
   "metadata": {
    "colab": {
     "autoexec": {
      "startup": false,
      "wait_interval": 0
     }
    },
    "colab_type": "code",
    "id": "z5CaYPydx7SB"
   },
   "outputs": [],
   "source": []
  }
 ],
 "metadata": {
  "colab": {
   "collapsed_sections": [],
   "default_view": {},
   "name": "radial_compression_classifier.ipynb",
   "provenance": [],
   "version": "0.3.2",
   "views": {}
  },
  "kernelspec": {
   "display_name": "Python 3",
   "language": "python",
   "name": "python3"
  },
  "language_info": {
   "codemirror_mode": {
    "name": "ipython",
    "version": 3
   },
   "file_extension": ".py",
   "mimetype": "text/x-python",
   "name": "python",
   "nbconvert_exporter": "python",
   "pygments_lexer": "ipython3",
   "version": "3.6.6"
  }
 },
 "nbformat": 4,
 "nbformat_minor": 1
}
